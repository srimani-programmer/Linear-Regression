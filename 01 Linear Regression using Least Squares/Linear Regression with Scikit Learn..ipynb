{
 "cells": [
  {
   "cell_type": "code",
   "execution_count": 1,
   "metadata": {},
   "outputs": [],
   "source": [
    "# Importing the Modules\n",
    "import pandas as pd\n",
    "import numpy as np\n",
    "import matplotlib.pyplot as plt"
   ]
  },
  {
   "cell_type": "code",
   "execution_count": 2,
   "metadata": {},
   "outputs": [],
   "source": [
    "dataset = pd.read_csv('Data/headbrain.csv')"
   ]
  },
  {
   "cell_type": "code",
   "execution_count": 3,
   "metadata": {},
   "outputs": [
    {
     "data": {
      "text/html": [
       "<div>\n",
       "<style scoped>\n",
       "    .dataframe tbody tr th:only-of-type {\n",
       "        vertical-align: middle;\n",
       "    }\n",
       "\n",
       "    .dataframe tbody tr th {\n",
       "        vertical-align: top;\n",
       "    }\n",
       "\n",
       "    .dataframe thead th {\n",
       "        text-align: right;\n",
       "    }\n",
       "</style>\n",
       "<table border=\"1\" class=\"dataframe\">\n",
       "  <thead>\n",
       "    <tr style=\"text-align: right;\">\n",
       "      <th></th>\n",
       "      <th>Gender</th>\n",
       "      <th>Age Range</th>\n",
       "      <th>Head Size(cm^3)</th>\n",
       "      <th>Brain Weight(grams)</th>\n",
       "    </tr>\n",
       "  </thead>\n",
       "  <tbody>\n",
       "    <tr>\n",
       "      <th>0</th>\n",
       "      <td>1</td>\n",
       "      <td>1</td>\n",
       "      <td>4512</td>\n",
       "      <td>1530</td>\n",
       "    </tr>\n",
       "    <tr>\n",
       "      <th>1</th>\n",
       "      <td>1</td>\n",
       "      <td>1</td>\n",
       "      <td>3738</td>\n",
       "      <td>1297</td>\n",
       "    </tr>\n",
       "    <tr>\n",
       "      <th>2</th>\n",
       "      <td>1</td>\n",
       "      <td>1</td>\n",
       "      <td>4261</td>\n",
       "      <td>1335</td>\n",
       "    </tr>\n",
       "    <tr>\n",
       "      <th>3</th>\n",
       "      <td>1</td>\n",
       "      <td>1</td>\n",
       "      <td>3777</td>\n",
       "      <td>1282</td>\n",
       "    </tr>\n",
       "    <tr>\n",
       "      <th>4</th>\n",
       "      <td>1</td>\n",
       "      <td>1</td>\n",
       "      <td>4177</td>\n",
       "      <td>1590</td>\n",
       "    </tr>\n",
       "  </tbody>\n",
       "</table>\n",
       "</div>"
      ],
      "text/plain": [
       "   Gender  Age Range  Head Size(cm^3)  Brain Weight(grams)\n",
       "0       1          1             4512                 1530\n",
       "1       1          1             3738                 1297\n",
       "2       1          1             4261                 1335\n",
       "3       1          1             3777                 1282\n",
       "4       1          1             4177                 1590"
      ]
     },
     "execution_count": 3,
     "metadata": {},
     "output_type": "execute_result"
    }
   ],
   "source": [
    "dataset.head(5)"
   ]
  },
  {
   "cell_type": "code",
   "execution_count": 135,
   "metadata": {},
   "outputs": [],
   "source": [
    "# Getting the Independent and Dependent variable.\n",
    "X = dataset.iloc[:,2:3].values\n",
    "Y = dataset.iloc[:,3].values\n",
    "\n",
    "#X.reshape(1,-1)\n",
    "#Y.reshape(1,-1)"
   ]
  },
  {
   "cell_type": "code",
   "execution_count": 136,
   "metadata": {},
   "outputs": [
    {
     "name": "stdout",
     "output_type": "stream",
     "text": [
      "[[4512]\n",
      " [3738]\n",
      " [4261]\n",
      " [3777]\n",
      " [4177]\n",
      " [3585]\n",
      " [3785]\n",
      " [3559]\n",
      " [3613]\n",
      " [3982]\n",
      " [3443]\n",
      " [3993]\n",
      " [3640]\n",
      " [4208]\n",
      " [3832]\n",
      " [3876]\n",
      " [3497]\n",
      " [3466]\n",
      " [3095]\n",
      " [4424]\n",
      " [3878]\n",
      " [4046]\n",
      " [3804]\n",
      " [3710]\n",
      " [4747]\n",
      " [4423]\n",
      " [4036]\n",
      " [4022]\n",
      " [3454]\n",
      " [4175]\n",
      " [3787]\n",
      " [3796]\n",
      " [4103]\n",
      " [4161]\n",
      " [4158]\n",
      " [3814]\n",
      " [3527]\n",
      " [3748]\n",
      " [3334]\n",
      " [3492]\n",
      " [3962]\n",
      " [3505]\n",
      " [4315]\n",
      " [3804]\n",
      " [3863]\n",
      " [4034]\n",
      " [4308]\n",
      " [3165]\n",
      " [3641]\n",
      " [3644]\n",
      " [3891]\n",
      " [3793]\n",
      " [4270]\n",
      " [4063]\n",
      " [4012]\n",
      " [3458]\n",
      " [3890]\n",
      " [4166]\n",
      " [3935]\n",
      " [3669]\n",
      " [3866]\n",
      " [3393]\n",
      " [4442]\n",
      " [4253]\n",
      " [3727]\n",
      " [3329]\n",
      " [3415]\n",
      " [3372]\n",
      " [4430]\n",
      " [4381]\n",
      " [4008]\n",
      " [3858]\n",
      " [4121]\n",
      " [4057]\n",
      " [3824]\n",
      " [3394]\n",
      " [3558]\n",
      " [3362]\n",
      " [3930]\n",
      " [3835]\n",
      " [3830]\n",
      " [3856]\n",
      " [3249]\n",
      " [3577]\n",
      " [3933]\n",
      " [3850]\n",
      " [3309]\n",
      " [3406]\n",
      " [3506]\n",
      " [3907]\n",
      " [4160]\n",
      " [3318]\n",
      " [3662]\n",
      " [3899]\n",
      " [3700]\n",
      " [3779]\n",
      " [3473]\n",
      " [3490]\n",
      " [3654]\n",
      " [3478]\n",
      " [3495]\n",
      " [3834]\n",
      " [3876]\n",
      " [3661]\n",
      " [3618]\n",
      " [3648]\n",
      " [4032]\n",
      " [3399]\n",
      " [3916]\n",
      " [4430]\n",
      " [3695]\n",
      " [3524]\n",
      " [3571]\n",
      " [3594]\n",
      " [3383]\n",
      " [3499]\n",
      " [3589]\n",
      " [3900]\n",
      " [4114]\n",
      " [3937]\n",
      " [3399]\n",
      " [4200]\n",
      " [4488]\n",
      " [3614]\n",
      " [4051]\n",
      " [3782]\n",
      " [3391]\n",
      " [3124]\n",
      " [4053]\n",
      " [3582]\n",
      " [3666]\n",
      " [3532]\n",
      " [4046]\n",
      " [3667]\n",
      " [2857]\n",
      " [3436]\n",
      " [3791]\n",
      " [3302]\n",
      " [3104]\n",
      " [3171]\n",
      " [3572]\n",
      " [3530]\n",
      " [3175]\n",
      " [3438]\n",
      " [3903]\n",
      " [3899]\n",
      " [3401]\n",
      " [3267]\n",
      " [3451]\n",
      " [3090]\n",
      " [3413]\n",
      " [3323]\n",
      " [3680]\n",
      " [3439]\n",
      " [3853]\n",
      " [3156]\n",
      " [3279]\n",
      " [3707]\n",
      " [4006]\n",
      " [3269]\n",
      " [3071]\n",
      " [3779]\n",
      " [3548]\n",
      " [3292]\n",
      " [3497]\n",
      " [3082]\n",
      " [3248]\n",
      " [3358]\n",
      " [3803]\n",
      " [3566]\n",
      " [3145]\n",
      " [3503]\n",
      " [3571]\n",
      " [3724]\n",
      " [3615]\n",
      " [3203]\n",
      " [3609]\n",
      " [3561]\n",
      " [3979]\n",
      " [3533]\n",
      " [3689]\n",
      " [3158]\n",
      " [4005]\n",
      " [3181]\n",
      " [3479]\n",
      " [3642]\n",
      " [3632]\n",
      " [3069]\n",
      " [3394]\n",
      " [3703]\n",
      " [3165]\n",
      " [3354]\n",
      " [3000]\n",
      " [3687]\n",
      " [3556]\n",
      " [2773]\n",
      " [3058]\n",
      " [3344]\n",
      " [3493]\n",
      " [3297]\n",
      " [3360]\n",
      " [3228]\n",
      " [3277]\n",
      " [3851]\n",
      " [3067]\n",
      " [3692]\n",
      " [3402]\n",
      " [3995]\n",
      " [3318]\n",
      " [2720]\n",
      " [2937]\n",
      " [3580]\n",
      " [2939]\n",
      " [2989]\n",
      " [3586]\n",
      " [3156]\n",
      " [3246]\n",
      " [3170]\n",
      " [3268]\n",
      " [3389]\n",
      " [3381]\n",
      " [2864]\n",
      " [3740]\n",
      " [3479]\n",
      " [3647]\n",
      " [3716]\n",
      " [3284]\n",
      " [4204]\n",
      " [3735]\n",
      " [3218]\n",
      " [3685]\n",
      " [3704]\n",
      " [3214]\n",
      " [3394]\n",
      " [3233]\n",
      " [3352]\n",
      " [3391]] [1530 1297 1335 1282 1590 1300 1400 1255 1355 1375 1340 1380 1355 1522\n",
      " 1208 1405 1358 1292 1340 1400 1357 1287 1275 1270 1635 1505 1490 1485\n",
      " 1310 1420 1318 1432 1364 1405 1432 1207 1375 1350 1236 1250 1350 1320\n",
      " 1525 1570 1340 1422 1506 1215 1311 1300 1224 1350 1335 1390 1400 1225\n",
      " 1310 1560 1330 1222 1415 1175 1330 1485 1470 1135 1310 1154 1510 1415\n",
      " 1468 1390 1380 1432 1240 1195 1225 1188 1252 1315 1245 1430 1279 1245\n",
      " 1309 1412 1120 1220 1280 1440 1370 1192 1230 1346 1290 1165 1240 1132\n",
      " 1242 1270 1218 1430 1588 1320 1290 1260 1425 1226 1360 1620 1310 1250\n",
      " 1295 1290 1290 1275 1250 1270 1362 1300 1173 1256 1440 1180 1306 1350\n",
      " 1125 1165 1312 1300 1270 1335 1450 1310 1027 1235 1260 1165 1080 1127\n",
      " 1270 1252 1200 1290 1334 1380 1140 1243 1340 1168 1322 1249 1321 1192\n",
      " 1373 1170 1265 1235 1302 1241 1078 1520 1460 1075 1280 1180 1250 1190\n",
      " 1374 1306 1202 1240 1316 1280 1350 1180 1210 1127 1324 1210 1290 1100\n",
      " 1280 1175 1160 1205 1163 1022 1243 1350 1237 1204 1090 1355 1250 1076\n",
      " 1120 1220 1240 1220 1095 1235 1105 1405 1150 1305 1220 1296 1175  955\n",
      " 1070 1320 1060 1130 1250 1225 1180 1178 1142 1130 1185 1012 1280 1103\n",
      " 1408 1300 1246 1380 1350 1060 1350 1220 1110 1215 1104 1170 1120]\n"
     ]
    }
   ],
   "source": [
    "print(X,Y)"
   ]
  },
  {
   "cell_type": "code",
   "execution_count": 137,
   "metadata": {},
   "outputs": [
    {
     "data": {
      "text/html": [
       "<div>\n",
       "<style scoped>\n",
       "    .dataframe tbody tr th:only-of-type {\n",
       "        vertical-align: middle;\n",
       "    }\n",
       "\n",
       "    .dataframe tbody tr th {\n",
       "        vertical-align: top;\n",
       "    }\n",
       "\n",
       "    .dataframe thead th {\n",
       "        text-align: right;\n",
       "    }\n",
       "</style>\n",
       "<table border=\"1\" class=\"dataframe\">\n",
       "  <thead>\n",
       "    <tr style=\"text-align: right;\">\n",
       "      <th></th>\n",
       "      <th>Gender</th>\n",
       "      <th>Age Range</th>\n",
       "      <th>Head Size(cm^3)</th>\n",
       "      <th>Brain Weight(grams)</th>\n",
       "    </tr>\n",
       "  </thead>\n",
       "  <tbody>\n",
       "    <tr>\n",
       "      <th>count</th>\n",
       "      <td>237.000000</td>\n",
       "      <td>237.000000</td>\n",
       "      <td>237.000000</td>\n",
       "      <td>237.000000</td>\n",
       "    </tr>\n",
       "    <tr>\n",
       "      <th>mean</th>\n",
       "      <td>1.434599</td>\n",
       "      <td>1.535865</td>\n",
       "      <td>3633.991561</td>\n",
       "      <td>1282.873418</td>\n",
       "    </tr>\n",
       "    <tr>\n",
       "      <th>std</th>\n",
       "      <td>0.496753</td>\n",
       "      <td>0.499768</td>\n",
       "      <td>365.261422</td>\n",
       "      <td>120.340446</td>\n",
       "    </tr>\n",
       "    <tr>\n",
       "      <th>min</th>\n",
       "      <td>1.000000</td>\n",
       "      <td>1.000000</td>\n",
       "      <td>2720.000000</td>\n",
       "      <td>955.000000</td>\n",
       "    </tr>\n",
       "    <tr>\n",
       "      <th>25%</th>\n",
       "      <td>1.000000</td>\n",
       "      <td>1.000000</td>\n",
       "      <td>3389.000000</td>\n",
       "      <td>1207.000000</td>\n",
       "    </tr>\n",
       "    <tr>\n",
       "      <th>50%</th>\n",
       "      <td>1.000000</td>\n",
       "      <td>2.000000</td>\n",
       "      <td>3614.000000</td>\n",
       "      <td>1280.000000</td>\n",
       "    </tr>\n",
       "    <tr>\n",
       "      <th>75%</th>\n",
       "      <td>2.000000</td>\n",
       "      <td>2.000000</td>\n",
       "      <td>3876.000000</td>\n",
       "      <td>1350.000000</td>\n",
       "    </tr>\n",
       "    <tr>\n",
       "      <th>max</th>\n",
       "      <td>2.000000</td>\n",
       "      <td>2.000000</td>\n",
       "      <td>4747.000000</td>\n",
       "      <td>1635.000000</td>\n",
       "    </tr>\n",
       "  </tbody>\n",
       "</table>\n",
       "</div>"
      ],
      "text/plain": [
       "           Gender   Age Range  Head Size(cm^3)  Brain Weight(grams)\n",
       "count  237.000000  237.000000       237.000000           237.000000\n",
       "mean     1.434599    1.535865      3633.991561          1282.873418\n",
       "std      0.496753    0.499768       365.261422           120.340446\n",
       "min      1.000000    1.000000      2720.000000           955.000000\n",
       "25%      1.000000    1.000000      3389.000000          1207.000000\n",
       "50%      1.000000    2.000000      3614.000000          1280.000000\n",
       "75%      2.000000    2.000000      3876.000000          1350.000000\n",
       "max      2.000000    2.000000      4747.000000          1635.000000"
      ]
     },
     "execution_count": 137,
     "metadata": {},
     "output_type": "execute_result"
    }
   ],
   "source": [
    "# Kowing the Features of the Dataset.\n",
    "dataset.describe()"
   ]
  },
  {
   "cell_type": "code",
   "execution_count": 138,
   "metadata": {},
   "outputs": [
    {
     "data": {
      "text/plain": [
       "237"
      ]
     },
     "execution_count": 138,
     "metadata": {},
     "output_type": "execute_result"
    }
   ],
   "source": [
    "# Knowing the Size of the Dataset.\n",
    "len(X)"
   ]
  },
  {
   "cell_type": "markdown",
   "metadata": {},
   "source": [
    "## Creating the Test and train dataset"
   ]
  },
  {
   "cell_type": "code",
   "execution_count": 139,
   "metadata": {},
   "outputs": [
    {
     "name": "stdout",
     "output_type": "stream",
     "text": [
      "X_train: (201, 1)\n",
      "Y_train: (201,)\n",
      "X_test: (36, 1)\n",
      "Y_test: (36,)\n"
     ]
    }
   ],
   "source": [
    "from sklearn.cross_validation import train_test_split\n",
    "X_train,X_test,Y_train,Y_test = train_test_split(X,Y,test_size=0.15,random_state=0)\n",
    "\n",
    "print('X_train:',X_train.shape)\n",
    "print('Y_train:',Y_train.shape)\n",
    "print('X_test:',X_test.shape)\n",
    "print('Y_test:',Y_test.shape)"
   ]
  },
  {
   "cell_type": "markdown",
   "metadata": {},
   "source": [
    "## Building Our Model"
   ]
  },
  {
   "cell_type": "code",
   "execution_count": 140,
   "metadata": {},
   "outputs": [
    {
     "data": {
      "text/plain": [
       "LinearRegression(copy_X=True, fit_intercept=True, n_jobs=1, normalize=False)"
      ]
     },
     "execution_count": 140,
     "metadata": {},
     "output_type": "execute_result"
    }
   ],
   "source": [
    "from sklearn.linear_model import LinearRegression\n",
    "regression = LinearRegression()\n",
    "regression.fit(X_test,Y_test)"
   ]
  },
  {
   "cell_type": "markdown",
   "metadata": {},
   "source": [
    "## Predicting the Test Set results."
   ]
  },
  {
   "cell_type": "code",
   "execution_count": 141,
   "metadata": {},
   "outputs": [
    {
     "name": "stdout",
     "output_type": "stream",
     "text": [
      "[1305.13629308 1291.81981212 1398.35165977 1244.60683419 1322.68983616\n",
      " 1281.83245141 1536.35882604 1247.33065984 1398.95695436 1343.57249948\n",
      " 1423.16873792 1106.29702062 1182.26149153 1338.42749547 1204.35474403\n",
      " 1218.88181416 1277.29274199 1363.24457362 1230.98770594 1271.5424434\n",
      " 1224.63211275 1437.09051346 1360.52074797 1263.06831915 1329.34807664\n",
      " 1312.39982815 1137.77233925 1279.71392035 1518.80528297 1042.74108879\n",
      " 1167.12912681 1264.27890833 1230.98770594 1390.18018282 1347.20426701\n",
      " 1211.0129845 ]\n"
     ]
    }
   ],
   "source": [
    "Y_predict = regression.predict(X_test)\n",
    "print(Y_predict)"
   ]
  },
  {
   "cell_type": "markdown",
   "metadata": {},
   "source": [
    "## Visualizing the results. "
   ]
  },
  {
   "cell_type": "code",
   "execution_count": 142,
   "metadata": {
    "scrolled": true
   },
   "outputs": [
    {
     "data": {
      "image/png": "[encoded data removed]",
      "text/plain": [
       "<Figure size 432x288 with 1 Axes>"
      ]
     },
     "metadata": {
      "needs_background": "light"
     },
     "output_type": "display_data"
    }
   ],
   "source": [
    "# Test set results.\n",
    "plt.scatter(X_test,Y_test)\n",
    "plt.plot(X_train,regression.predict(X_train),color=\"red\")\n",
    "plt.xlabel('Brain Weight')\n",
    "plt.ylabel('Head Size')\n",
    "plt.show()"
   ]
  },
  {
   "cell_type": "code",
   "execution_count": 143,
   "metadata": {},
   "outputs": [
    {
     "data": {
      "image/png": "[encoded data removed]",
      "text/plain": [
       "<Figure size 432x288 with 1 Axes>"
      ]
     },
     "metadata": {
      "needs_background": "light"
     },
     "output_type": "display_data"
    }
   ],
   "source": [
    "# Train set Results.\n",
    "\n",
    "plt.scatter(X_train,Y_train)\n",
    "plt.plot(X_train,regression.predict(X_train),color=\"red\")\n",
    "plt.xlabel('Brain Weight')\n",
    "plt.ylabel('Head Weight')\n",
    "plt.show()"
   ]
  },
  {
   "cell_type": "markdown",
   "metadata": {},
   "source": [
    "## Accuracy "
   ]
  },
  {
   "cell_type": "code",
   "execution_count": 144,
   "metadata": {},
   "outputs": [
    {
     "name": "stdout",
     "output_type": "stream",
     "text": [
      "71.43596607282325 %\n"
     ]
    }
   ],
   "source": [
    "accuracy = regression.score(X_test,Y_test)\n",
    "print(accuracy * 100 , \"%\")"
   ]
  },
  {
   "cell_type": "code",
   "execution_count": 145,
   "metadata": {},
   "outputs": [
    {
     "name": "stdout",
     "output_type": "stream",
     "text": [
      "60.57431658253365 %\n"
     ]
    }
   ],
   "source": [
    "accuracy = regression.score(X_train,Y_train)\n",
    "print(accuracy * 100 , \"%\")"
   ]
  }
 ],
 "metadata": {
  "kernelspec": {
   "display_name": "Python 3",
   "language": "python",
   "name": "python3"
  },
  "language_info": {
   "codemirror_mode": {
    "name": "ipython",
    "version": 3
   },
   "file_extension": ".py",
   "mimetype": "text/x-python",
   "name": "python",
   "nbconvert_exporter": "python",
   "pygments_lexer": "ipython3",
   "version": "3.7.0"
  }
 },
 "nbformat": 4,
 "nbformat_minor": 2
}
